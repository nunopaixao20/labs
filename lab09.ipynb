{
 "cells": [
  {
   "cell_type": "markdown",
   "metadata": {},
   "source": [
    "# lab 9\n",
    "\n",
    "Suppose you have the follwoing payoff matriz of a prisoner's dilemna\n",
    "$$\\begin{bmatrix} (2,2) & (0,3) \\\\ (3,0) & (1,1)  \\end{bmatrix}$$\n",
    "\n",
    "Player 0 may play 0 or 1 and player 1 may play 0 or 1. 0 is cooperate (our peace), 1 is not cooperate (war).\n"
   ]
  },
  {
   "cell_type": "markdown",
   "metadata": {},
   "source": [
    "**1.** Create a function that receives results from each one of the player and gives as results a tuple with the results."
   ]
  },
  {
   "cell_type": "code",
   "execution_count": 1,
   "metadata": {},
   "outputs": [],
   "source": [
    "import random\n",
    "\n",
    "Payoff = [[(2,2),(0,3)],[(3,0),(1,1)]]\n",
    "\n",
    "def results(player0,player1):\n",
    "    return Payoff[player0][player1]\n",
    "\n",
    "#ou\n",
    "#if Player0 = 1 and Player1 = 1:\n",
    "    #--------------\n",
    "    #elif Player0 = 1 and Player1 = 0:\n",
    "    #-------------\n",
    "    #elif Player0 = 0 and Player1 = 1\n",
    "    #else\n",
    "#não está completo\n",
    "#podemos também restringir: se o jogador responder um número diferente de 0 e 1 dá erro"
   ]
  },
  {
   "cell_type": "markdown",
   "metadata": {},
   "source": [
    "**2.** Player 0 is the user that chooses between 0 a 1. Player 1 is a computer. Result is randomly generated.  "
   ]
  },
  {
   "cell_type": "code",
   "execution_count": 2,
   "metadata": {},
   "outputs": [
    {
     "name": "stdout",
     "output_type": "stream",
     "text": [
      "1 - war, 0 - peace: 1\n",
      "Player 0: 1\n",
      "player 1: 1\n",
      "(1, 1)\n",
      "my results: 1\n"
     ]
    }
   ],
   "source": [
    "# 0 peace\n",
    "# 1 War\n",
    "\n",
    "player0=int(input(\"1 - war, 0 - peace: \"))\n",
    "player1=random.randint(0,1)\n",
    "\n",
    "player1 #só para saber o valor que ele gerou isto é igual a print(player1)\n",
    "\n",
    "print(\"Player 0: \" + str(player0) + \"\\n\" + \"player 1: \" + str(player1))\n",
    "\n",
    "a = results(player0,player1)\n",
    "print(a)\n",
    "\n",
    "print(\"my results: \" + str(a[0]))"
   ]
  },
  {
   "cell_type": "markdown",
   "metadata": {},
   "source": [
    "**3.** Calculate the accumulated value resulting from an iterative game (10 iterations)"
   ]
  },
  {
   "cell_type": "code",
   "execution_count": null,
   "metadata": {},
   "outputs": [
    {
     "name": "stdout",
     "output_type": "stream",
     "text": [
      "1 - war, 0 - peace: 1\n",
      "Player 0: 1\n",
      "player 1: 1\n",
      "(1, 1)\n",
      "1\n",
      "1 - war, 0 - peace: 1\n",
      "Player 0: 1\n",
      "player 1: 0\n",
      "(3, 0)\n",
      "4\n",
      "1 - war, 0 - peace: 0\n",
      "Player 0: 0\n",
      "player 1: 1\n",
      "(0, 3)\n",
      "4\n"
     ]
    }
   ],
   "source": [
    "value=0\n",
    "for i in range (10):\n",
    "    player0=int(input(\"1 - war, 0 - peace: \"))\n",
    "    player1=random.randint(0,1)\n",
    "    print(\"Player 0: \" + str(player0) + \"\\n\" + \"player 1: \" + str(player1))\n",
    "    a = results(player0,player1)\n",
    "    print(a)\n",
    "    value = value + a[0]\n",
    "    print(value)"
   ]
  },
  {
   "cell_type": "code",
   "execution_count": null,
   "metadata": {},
   "outputs": [],
   "source": []
  }
 ],
 "metadata": {
  "kernelspec": {
   "display_name": "Python 3",
   "language": "python",
   "name": "python3"
  },
  "language_info": {
   "codemirror_mode": {
    "name": "ipython",
    "version": 3
   },
   "file_extension": ".py",
   "mimetype": "text/x-python",
   "name": "python",
   "nbconvert_exporter": "python",
   "pygments_lexer": "ipython3",
   "version": "3.7.3"
  }
 },
 "nbformat": 4,
 "nbformat_minor": 2
}
