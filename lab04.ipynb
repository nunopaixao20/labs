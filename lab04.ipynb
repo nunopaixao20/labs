{
 "cells": [
  {
   "cell_type": "markdown",
   "metadata": {},
   "source": [
    "Questão 1"
   ]
  },
  {
   "cell_type": "code",
   "execution_count": 3,
   "metadata": {},
   "outputs": [
    {
     "name": "stdout",
     "output_type": "stream",
     "text": [
      "[1000, 1100.0, 1210.0, 1331.0, 1464.1, 1610.51]\n"
     ]
    }
   ],
   "source": [
    "valueSales =1000\n",
    "rate = 0.10\n",
    "years = 6\n",
    "lista = []\n",
    "lista.append(1000)\n",
    "while years > 1:\n",
    "    value = lista[-1]\n",
    "    valueS = value + value * 0.1\n",
    "    lista.append(valueS)\n",
    "    years = years - 1\n",
    "print(lista)"
   ]
  },
  {
   "cell_type": "code",
   "execution_count": 4,
   "metadata": {},
   "outputs": [
    {
     "name": "stdout",
     "output_type": "stream",
     "text": [
      "[1000, 1100.0, 1210.0, 1331.0, 1464.1, 1610.51]\n"
     ]
    }
   ],
   "source": [
    "valueSales =1000\n",
    "rate = 0.10\n",
    "years = 6\n",
    "lista = []\n",
    "lista.append(1000)\n",
    "for i in range (years-1):\n",
    "    value = lista[-1]\n",
    "    valueS = value + value * 0.1\n",
    "    lista.append(valueS)\n",
    "print(lista)"
   ]
  },
  {
   "cell_type": "markdown",
   "metadata": {},
   "source": [
    "Questão 2"
   ]
  },
  {
   "cell_type": "code",
   "execution_count": 5,
   "metadata": {},
   "outputs": [
    {
     "name": "stdout",
     "output_type": "stream",
     "text": [
      "[300.00000000000006, 330.00000000000006, 363.00000000000006, 399.30000000000007, 439.23, 483.1530000000001]\n"
     ]
    }
   ],
   "source": [
    "margem = 0.7\n",
    "listaCost =[]\n",
    "for sale in lista :\n",
    "    cost = sale * (1-margem)\n",
    "    listaCost.append(cost)\n",
    "print(listaCost)"
   ]
  },
  {
   "cell_type": "markdown",
   "metadata": {},
   "source": [
    "questão 3"
   ]
  },
  {
   "cell_type": "code",
   "execution_count": 6,
   "metadata": {},
   "outputs": [
    {
     "name": "stdout",
     "output_type": "stream",
     "text": [
      "[700.0, 770.0, 847.0, 931.6999999999999, 1024.87, 1127.357]\n"
     ]
    }
   ],
   "source": [
    "profits = [lista[i]-listaCost[i] for i in range (0,years)]\n",
    "print(profits)"
   ]
  },
  {
   "cell_type": "code",
   "execution_count": 7,
   "metadata": {},
   "outputs": [
    {
     "name": "stdout",
     "output_type": "stream",
     "text": [
      "[700.0, 770.0, 847.0, 931.6999999999999, 1024.87, 1127.357]\n"
     ]
    }
   ],
   "source": [
    "profits = []\n",
    "years = 6\n",
    "for i in range (years):\n",
    "    profits.append(lista[i]-listaCost[i])\n",
    "print(profits)"
   ]
  },
  {
   "cell_type": "markdown",
   "metadata": {},
   "source": [
    "Questão 4"
   ]
  },
  {
   "cell_type": "code",
   "execution_count": 8,
   "metadata": {},
   "outputs": [
    {
     "name": "stdout",
     "output_type": "stream",
     "text": [
      "[200.0, 270.0, 347.0, 431.69999999999993, 524.8699999999999, 627.357]\n"
     ]
    }
   ],
   "source": [
    "margem=0.7\n",
    "fixedCost=500\n",
    "newProfit=[]\n",
    "for sale in lista:\n",
    "    profit=sale*margem-fixedCost\n",
    "    newProfit.append(profit)\n",
    "print(newProfit)"
   ]
  },
  {
   "cell_type": "markdown",
   "metadata": {},
   "source": [
    "Questão 5"
   ]
  },
  {
   "cell_type": "code",
   "execution_count": 9,
   "metadata": {},
   "outputs": [
    {
     "name": "stdout",
     "output_type": "stream",
     "text": [
      "[1231, 1458, 587, 1994, 1326, 1355]\n"
     ]
    }
   ],
   "source": [
    "import random \n",
    "years = 6\n",
    "listR = []\n",
    "while years > 0:\n",
    "    r=random.randint (200,2000) #gera numero inteiro aleatorio\n",
    "    listR.append(r) #adiciona-se esse numero na lista\n",
    "    years= years-1 #diminui-se nºo de anos para preencher toda a lista\n",
    "print(listR)"
   ]
  },
  {
   "cell_type": "markdown",
   "metadata": {},
   "source": [
    "Questão 6"
   ]
  },
  {
   "cell_type": "code",
   "execution_count": 10,
   "metadata": {},
   "outputs": [
    {
     "name": "stdout",
     "output_type": "stream",
     "text": [
      "[731.7, 958.7, 87.70000000000005, 1494.7, 826.7, 855.7]\n"
     ]
    }
   ],
   "source": [
    "margem = 0.7\n",
    "costFix = 500\n",
    "newProfit = [] \n",
    "for i in listR:\n",
    "    value = (i + margem) - costFix #calculo do valor\n",
    "    newProfit.append(value) #adiciona-se o valor à lista\n",
    "print(newProfit)"
   ]
  },
  {
   "cell_type": "markdown",
   "metadata": {},
   "source": [
    "Questão 7"
   ]
  },
  {
   "cell_type": "code",
   "execution_count": 18,
   "metadata": {},
   "outputs": [
    {
     "ename": "TypeError",
     "evalue": "can only concatenate tuple (not \"int\") to tuple",
     "output_type": "error",
     "traceback": [
      "\u001b[1;31m---------------------------------------------------------------------------\u001b[0m",
      "\u001b[1;31mTypeError\u001b[0m                                 Traceback (most recent call last)",
      "\u001b[1;32m<ipython-input-18-110cef4bfc1e>\u001b[0m in \u001b[0;36m<module>\u001b[1;34m\u001b[0m\n\u001b[0;32m      2\u001b[0m \u001b[1;32mfor\u001b[0m \u001b[0mprofit\u001b[0m \u001b[1;32min\u001b[0m \u001b[0mnewProfit\u001b[0m\u001b[1;33m:\u001b[0m\u001b[1;33m\u001b[0m\u001b[1;33m\u001b[0m\u001b[0m\n\u001b[0;32m      3\u001b[0m     \u001b[1;32mif\u001b[0m \u001b[0mprofit\u001b[0m\u001b[1;33m>\u001b[0m \u001b[1;36m0\u001b[0m\u001b[1;33m:\u001b[0m\u001b[1;33m\u001b[0m\u001b[1;33m\u001b[0m\u001b[0m\n\u001b[1;32m----> 4\u001b[1;33m         \u001b[0mnameprofit\u001b[0m \u001b[1;33m=\u001b[0m \u001b[0mnameprofit\u001b[0m \u001b[1;33m+\u001b[0m \u001b[1;36m1\u001b[0m\u001b[1;33m\u001b[0m\u001b[1;33m\u001b[0m\u001b[0m\n\u001b[0m\u001b[0;32m      5\u001b[0m \u001b[0mpositivo\u001b[0m \u001b[1;33m=\u001b[0m \u001b[1;33m(\u001b[0m\u001b[0mnameprofit\u001b[0m\u001b[1;33m/\u001b[0m\u001b[0myears\u001b[0m\u001b[1;33m)\u001b[0m\u001b[1;33m*\u001b[0m\u001b[1;36m100\u001b[0m\u001b[1;33m\u001b[0m\u001b[1;33m\u001b[0m\u001b[0m\n\u001b[0;32m      6\u001b[0m \u001b[0mprint\u001b[0m\u001b[1;33m(\u001b[0m\u001b[0mpositivos\u001b[0m\u001b[1;33m)\u001b[0m\u001b[1;33m\u001b[0m\u001b[1;33m\u001b[0m\u001b[0m\n",
      "\u001b[1;31mTypeError\u001b[0m: can only concatenate tuple (not \"int\") to tuple"
     ]
    }
   ],
   "source": [
    "nameprofit = ()\n",
    "for profit in newProfit:\n",
    "    if profit> 0:\n",
    "        nameprofit = nameprofit + 1\n",
    "positivo = (nameprofit/years)*100\n",
    "print(positivos)"
   ]
  },
  {
   "cell_type": "markdown",
   "metadata": {},
   "source": [
    "Questão 8"
   ]
  },
  {
   "cell_type": "code",
   "execution_count": 16,
   "metadata": {},
   "outputs": [
    {
     "data": {
      "image/png": "[encoded data removed]",
      "text/plain": [
       "<Figure size 432x288 with 1 Axes>"
      ]
     },
     "metadata": {
      "needs_background": "light"
     },
     "output_type": "display_data"
    }
   ],
   "source": [
    "import matplotlib.pyplot as plt\n",
    "plt.plot(sale)\n",
    "plt.plot(newProfit)\n",
    "plt.ylabel('sales')\n",
    "plt.xlabel('years')\n",
    "plt.show()"
   ]
  },
  {
   "cell_type": "code",
   "execution_count": null,
   "metadata": {},
   "outputs": [],
   "source": []
  }
 ],
 "metadata": {
  "kernelspec": {
   "display_name": "Python 3",
   "language": "python",
   "name": "python3"
  },
  "language_info": {
   "codemirror_mode": {
    "name": "ipython",
    "version": 3
   },
   "file_extension": ".py",
   "mimetype": "text/x-python",
   "name": "python",
   "nbconvert_exporter": "python",
   "pygments_lexer": "ipython3",
   "version": "3.7.3"
  }
 },
 "nbformat": 4,
 "nbformat_minor": 2
}
